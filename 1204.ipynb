{
 "cells": [
  {
   "cell_type": "code",
   "execution_count": 4,
   "metadata": {
    "colab": {
     "base_uri": "https://localhost:8080/"
    },
    "id": "qvjlfyVXWdAs",
    "outputId": "323da0d2-97ca-4583-8f82-75f8d0d3ca01"
   },
   "outputs": [
    {
     "name": "stdout",
     "output_type": "stream",
     "text": [
      "請輸入公司代碼：（按Enter結束）2330\n",
      "請輸入公司代碼：（按Enter結束）\n"
     ]
    },
    {
     "data": {
      "text/plain": [
       "['2330']"
      ]
     },
     "execution_count": 4,
     "metadata": {},
     "output_type": "execute_result"
    }
   ],
   "source": [
    "# 由使用者輸入任意數量的公司代碼\n",
    "\n",
    "cos = []\n",
    "\n",
    "while True:\n",
    "    co = input('請輸入公司代碼：（按Enter結束）')\n",
    "    if co == '':\n",
    "        break\n",
    "    else:\n",
    "        cos.append(co)\n",
    "\n",
    "cos"
   ]
  },
  {
   "cell_type": "code",
   "execution_count": 12,
   "metadata": {
    "id": "4Oaazq45Xv6C"
   },
   "outputs": [],
   "source": [
    "# 觀察輸入代碼並按查詢後，網址都不變，推測為API post method\n",
    "# 請由「開發者工具」觀察其api網址及form_data\n",
    "\n",
    "stk = '2330'\n",
    "\n",
    "api_url = 'https://mops.twse.com.tw/mops/web/ajax_t05st10_ifrs'\n",
    "\n",
    "form_data = {'encodeURIComponent': '1',\n",
    "             'step': '1',\n",
    "             'firstin': '1',\n",
    "             'off': '1',\n",
    "             'keyword4': '',\n",
    "             'code1': '',\n",
    "             'TYPEK2': '',\n",
    "             'checkbtn': '' ,\n",
    "             'queryName': 'co_id',\n",
    "             'inpuType': 'co_id',\n",
    "             'TYPEK': 'all',\n",
    "             'isnew': 'true',\n",
    "             'co_id': stk,\n",
    "             'year': '',\n",
    "             'month': ''}"
   ]
  },
  {
   "cell_type": "code",
   "execution_count": 25,
   "metadata": {
    "id": "Xz_ets3RZZ7M"
   },
   "outputs": [
    {
     "data": {
      "text/plain": [
       "<html>\n",
       "<head>\n",
       "<title>公開資訊觀測站</title>\n",
       "<link href=\"css/css2.css\" media=\"Screen\" rel=\"stylesheet\" type=\"text/css\"/>\n",
       "<script src=\"js/mops2.js\" type=\"text/javascript\"></script>\n",
       "</head>\n",
       "<body>\n",
       "<!-- isnew=true -->\n",
       "<!-- yearmonth=11210 -->\n",
       "<tr><td align=\"left\" class=\"reportCont\">\n",
       "<h3><u><a alt=\"查詢彙總報表\" href=\"/mops/web/t21sc04_ifrs\">查詢彙總報表</a></u></h3>\n",
       "</td></tr>\n",
       "<table class=\"noBorder\" style=\"width: 60%; margin-left: 20%;\">\n",
       "<tr><td align=\"right\">\n",
       "<form action=\"/server-java/t56ques\" method=\"post\">\n",
       "<input name=\"step\" type=\"hidden\" value=\"0\"/>\n",
       "<input name=\"Market\" type=\"hidden\" value=\"sii \"/>\n",
       "<input name=\"SysName\" type=\"hidden\" value=\"營運概況\"/>\n",
       "<input name=\"reportName\" type=\"hidden\" value=\"開立發票及營業收入資訊\"/>\n",
       "<input name=\"colorchg\" type=\"hidden\" value=\"\"/>\n",
       "<input name=\"compID\" type=\"hidden\" value=\"2330\"/>\n",
       "<input name=\"compName\" type=\"hidden\" value=\"\"/>\n",
       "<input name=\"progName\" type=\"hidden\" value=\"t05st10_ifrs\"/>\n",
       "<input name=\"QNum\" type=\"hidden\" value=\"2\"/>\n",
       "<input name=\"Q1N\" type=\"hidden\" value=\"公司代號\"/>\n",
       "<input name=\"Q1V\" type=\"hidden\" value=\"2330\"/>\n",
       "<input name=\"Q2N\" type=\"hidden\" value=\"資料年月\"/>\n",
       "<input name=\"Q2V\" type=\"hidden\" value=\"\"/>\n",
       "</form></td></tr></table>\n",
       "<table align=\"center\" class=\"noBorder\" style=\"width: 60%; margin-left: 20%;\"><tr><td align=\"center\" class=\"compName\">\n",
       "<b>\n",
       "本資料由　(上市公司)\n",
       "台積電　公司提供</b>\n",
       "</td></tr></table>\n",
       "<table align=\"center\" class=\"noBorder\" style=\"width: 60%; margin-left: 20%;\"><td width=\"33%\"></td><td align=\"center\" class=\"reportCont\" width=\"33%\">民國112年10月</td>\n",
       "<td class=\"reportCont\" style=\"text-align:right !important;\" width=\"33%\">單位：新台幣仟元</td></table>\n",
       "<br/>\n",
       "<table align=\"center\" class=\"hasBorder\" style=\"width: 60%; margin-left: 20%;\">\n",
       "<tr>\n",
       "<th class=\"tblHead\">項目</th>\n",
       "<th class=\"tblHead\">營業收入淨額</th>\n",
       "</tr>\n",
       "<tr>\n",
       "<th class=\"tblHead\">本月</th>\n",
       "<td class=\"odd\" style=\"text-align:right !important;\">           243,202,811</td></tr>\n",
       "<tr>\n",
       "<th class=\"tblHead\">去年同期</th>\n",
       "<td class=\"even\" style=\"text-align:right !important;\">           210,265,633</td></tr>\n",
       "<tr>\n",
       "<th class=\"tblHead\">增減金額</th>\n",
       "<td class=\"odd\" style=\"text-align:right !important;\">            32,937,178</td></tr>\n",
       "<tr>\n",
       "<th class=\"tblHead\">增減百分比</th>\n",
       "<td class=\"even\" style=\"text-align:right !important;\">       15.66</td></tr>\n",
       "<tr>\n",
       "<th class=\"tblHead\">本年累計</th>\n",
       "<td class=\"odd\" style=\"text-align:right !important;\">          1,779,409,796</td></tr>\n",
       "<tr>\n",
       "<th class=\"tblHead\">去年累計</th>\n",
       "<td class=\"even\" style=\"text-align:right !important;\">         1,848,625,057</td></tr>\n",
       "<tr>\n",
       "<th class=\"tblHead\">增減金額</th>\n",
       "<td class=\"odd\" style=\"text-align:right !important;\">            -69,215,261</td></tr>\n",
       "<tr>\n",
       "<th class=\"tblHead\">增減百分比</th>\n",
       "<td class=\"even\" style=\"text-align:right !important;\">       -3.74</td></tr>\n",
       "<th class=\"tblHead\" nowrap=\"\">備註 / 營收變化原因說明</th>\n",
       "<td class=\"even\" style=\"text-align:left !important;\">無。</td>\n",
       "</table><br/>\n",
       "<table align=\"center\" class=\"noBorder\" style=\"width: 60%; margin-left: 20%;\">\n",
       "<tr>\n",
       "<td class=\"note\" style=\"text-align:left !important;\">\n",
       "1.各項增減百分比資訊，如數值逾越999999.99或分母為零（無法計算），則以999999.99表示。<br/>\n",
       "2.合併營業收入係將母子公司及各子公司間重複營收部分消除後所得數字。<br/>\n",
       "3.自民國95年1月起,金融業之各項營業收入係以淨額申報，其營業收入淨額係指「淨收益」。<br/>\n",
       "4.上市櫃公司、興櫃公司、及金管會主管之金融業自民國102年起適用IFRSs；非上市上櫃興櫃之公發公司(含金控子公司為公發公司之非金融業、投控子公司為公發公司者)，自民國104年起適用IFRSs。配合IFRSs實施，營業收入係以合併營業收入申報；無子公司者，則以個別營業收入申報；自願提前適用IFRSs者亦同。<br/>\n",
       "5.自民國102年1月起，配合IFRSs實施，金控業之營業收入係以淨額申報，其營業收入淨額係指「淨收益」。<br/>\n",
       "6.上市櫃及興櫃公司，本月營收或本年累計營收較去年同期增減變動達50％以上者，需於備註欄位說明增減變動原因。\n",
       "</td>\n",
       "</tr>\n",
       "</table>\n",
       "<br/><br/>\n",
       "</body>\n",
       "</html>"
      ]
     },
     "execution_count": 25,
     "metadata": {},
     "output_type": "execute_result"
    }
   ],
   "source": [
    "# 引用自己的模組\n",
    "\n",
    "\n",
    "import requests\n",
    "\n",
    "resp=requests.post(api_url, form_data)\n",
    "from bs4 import BeautifulSoup\n",
    "soup=BeautifulSoup(resp.text, 'lxml')\n",
    "soup"
   ]
  },
  {
   "cell_type": "code",
   "execution_count": 24,
   "metadata": {
    "colab": {
     "base_uri": "https://localhost:8080/"
    },
    "id": "k96_6OGsav_6",
    "outputId": "98865bfe-0a54-4806-daeb-1db951935430"
   },
   "outputs": [
    {
     "ename": "TypeError",
     "evalue": "get_soup() takes 1 positional argument but 2 were given",
     "output_type": "error",
     "traceback": [
      "\u001b[0;31m---------------------------------------------------------------------------\u001b[0m",
      "\u001b[0;31mTypeError\u001b[0m                                 Traceback (most recent call last)",
      "Cell \u001b[0;32mIn[24], line 1\u001b[0m\n\u001b[0;32m----> 1\u001b[0m soup \u001b[38;5;241m=\u001b[39m get_soup(api_url, form_data)\n\u001b[1;32m      2\u001b[0m soup\n",
      "\u001b[0;31mTypeError\u001b[0m: get_soup() takes 1 positional argument but 2 were given"
     ]
    }
   ],
   "source": []
  },
  {
   "cell_type": "markdown",
   "metadata": {
    "id": "Af8E7QFCbi5R"
   },
   "source": [
    "欄位：公司代號、公司名稱、本月營收金額、增減百分比（本月）、增減百分比（累計）"
   ]
  },
  {
   "cell_type": "code",
   "execution_count": 26,
   "metadata": {
    "colab": {
     "base_uri": "https://localhost:8080/",
     "height": 35
    },
    "id": "DfFjE-OEbDpx",
    "outputId": "733cf752-ef72-46f7-a456-9723f08572cf"
   },
   "outputs": [
    {
     "data": {
      "text/plain": [
       "'台積電'"
      ]
     },
     "execution_count": 26,
     "metadata": {},
     "output_type": "execute_result"
    }
   ],
   "source": [
    "# 公司名稱\n",
    "co_name = soup.find_all('table')[1].find('td').text.strip()\n",
    "co_name[13:-5]"
   ]
  },
  {
   "cell_type": "code",
   "execution_count": 27,
   "metadata": {
    "colab": {
     "base_uri": "https://localhost:8080/",
     "height": 35
    },
    "id": "sdf4ryzhcOKZ",
    "outputId": "88af89f0-c2a6-4e6f-d292-1d890aecfbe9"
   },
   "outputs": [
    {
     "data": {
      "text/plain": [
       "'243,202,811'"
      ]
     },
     "execution_count": 27,
     "metadata": {},
     "output_type": "execute_result"
    }
   ],
   "source": [
    "# 本月營收金額\n",
    "\n",
    "rev = soup.find_all('table')[3].find_all('tr')[1].find('td').text.strip()\n",
    "rev"
   ]
  },
  {
   "cell_type": "code",
   "execution_count": 28,
   "metadata": {
    "colab": {
     "base_uri": "https://localhost:8080/",
     "height": 35
    },
    "id": "YsIsn7CXdahp",
    "outputId": "a6b71dad-f76f-4888-e1c1-4f426cbd858c"
   },
   "outputs": [
    {
     "data": {
      "text/plain": [
       "'15.66'"
      ]
     },
     "execution_count": 28,
     "metadata": {},
     "output_type": "execute_result"
    }
   ],
   "source": [
    "# 增減百分比（本月）\n",
    "\n",
    "mon_growth = soup.find_all('table')[3].find_all('tr')[4].find('td').text.strip()\n",
    "mon_growth"
   ]
  },
  {
   "cell_type": "code",
   "execution_count": 29,
   "metadata": {
    "colab": {
     "base_uri": "https://localhost:8080/",
     "height": 35
    },
    "id": "WDWGAuCNdoxD",
    "outputId": "62cd0207-cd21-46a7-b4cd-fb1643d7f228"
   },
   "outputs": [
    {
     "data": {
      "text/plain": [
       "'-3.74'"
      ]
     },
     "execution_count": 29,
     "metadata": {},
     "output_type": "execute_result"
    }
   ],
   "source": [
    "# 增減百分比（累計）\n",
    "\n",
    "yr_growth = soup.find_all('table')[3].find_all('tr')[8].find('td').text.strip()\n",
    "yr_growth"
   ]
  },
  {
   "cell_type": "code",
   "execution_count": 36,
   "metadata": {
    "id": "qg6rVNqyd0gZ"
   },
   "outputs": [],
   "source": [
    "# 函式化\n",
    "\n",
    "datas = []\n",
    "\n",
    "def rev(stk):\n",
    "    api_url = 'https://mops.twse.com.tw/mops/web/ajax_t05st10_ifrs'\n",
    "    form_data = {'encodeURIComponent': '1',\n",
    "             'step': '1',\n",
    "             'firstin': '1',\n",
    "             'off': '1',\n",
    "             'keyword4': '',\n",
    "             'code1': '',\n",
    "             'TYPEK2': '',\n",
    "             'checkbtn': '' ,\n",
    "             'queryName': 'co_id',\n",
    "             'inpuType': 'co_id',\n",
    "             'TYPEK': 'all',\n",
    "             'isnew': 'true',\n",
    "             'co_id': stk,\n",
    "             'year': '',\n",
    "             'month': ''}\n",
    "    soup = BeautifulSoup(resp.text, 'lxml')\n",
    "    data=[]\n",
    "    data.append(stk)\n",
    "    data.append(soup.find_all('table')[1].find('td').text.strip()[13:-5])\n",
    "    data.append(soup.find_all('table')[3].find_all('tr')[1].find('td').text.strip())\n",
    "    data.append(soup.find_all('table')[3].find_all('tr')[4].find('td').text.strip())\n",
    "    data.append(soup.find_all('table')[3].find_all('tr')[8].find('td').text.strip())\n",
    "\n",
    "    datas.append(data)\n",
    "    return datas"
   ]
  },
  {
   "cell_type": "code",
   "execution_count": 33,
   "metadata": {
    "colab": {
     "base_uri": "https://localhost:8080/"
    },
    "id": "9K_4GdeSem95",
    "outputId": "771813a4-8850-430d-b566-e0e570226669"
   },
   "outputs": [
    {
     "name": "stdout",
     "output_type": "stream",
     "text": [
      "正爬取2330的營收資料...\n"
     ]
    },
    {
     "data": {
      "text/plain": [
       "[['2330', '台積電', '243,202,811', '15.66', '-3.74']]"
      ]
     },
     "execution_count": 33,
     "metadata": {},
     "output_type": "execute_result"
    }
   ],
   "source": [
    "for co in cos:\n",
    "    print(f'正爬取{co}的營收資料...')\n",
    "    rev(co)\n",
    "\n",
    "datas"
   ]
  },
  {
   "cell_type": "code",
   "execution_count": 34,
   "metadata": {
    "colab": {
     "base_uri": "https://localhost:8080/",
     "height": 143
    },
    "id": "7irbYBBDfF3r",
    "outputId": "cc1f0cad-419f-4c8c-ea91-66f61d4f1804"
   },
   "outputs": [
    {
     "data": {
      "text/html": [
       "<div>\n",
       "<style scoped>\n",
       "    .dataframe tbody tr th:only-of-type {\n",
       "        vertical-align: middle;\n",
       "    }\n",
       "\n",
       "    .dataframe tbody tr th {\n",
       "        vertical-align: top;\n",
       "    }\n",
       "\n",
       "    .dataframe thead th {\n",
       "        text-align: right;\n",
       "    }\n",
       "</style>\n",
       "<table border=\"1\" class=\"dataframe\">\n",
       "  <thead>\n",
       "    <tr style=\"text-align: right;\">\n",
       "      <th></th>\n",
       "      <th>公司代號</th>\n",
       "      <th>公司名稱</th>\n",
       "      <th>本月營收</th>\n",
       "      <th>逐月成長率(%)</th>\n",
       "      <th>同期成長率(%)</th>\n",
       "    </tr>\n",
       "  </thead>\n",
       "  <tbody>\n",
       "    <tr>\n",
       "      <th>0</th>\n",
       "      <td>2330</td>\n",
       "      <td>台積電</td>\n",
       "      <td>243,202,811</td>\n",
       "      <td>15.66</td>\n",
       "      <td>-3.74</td>\n",
       "    </tr>\n",
       "  </tbody>\n",
       "</table>\n",
       "</div>"
      ],
      "text/plain": [
       "   公司代號 公司名稱         本月營收 逐月成長率(%) 同期成長率(%)\n",
       "0  2330  台積電  243,202,811    15.66    -3.74"
      ]
     },
     "execution_count": 34,
     "metadata": {},
     "output_type": "execute_result"
    }
   ],
   "source": [
    "import pandas as pd\n",
    "\n",
    "pf = pd.DataFrame(datas, columns = ['公司代號','公司名稱','本月營收','逐月成長率(%)','同期成長率(%)'])\n",
    "pf"
   ]
  },
  {
   "cell_type": "code",
   "execution_count": null,
   "metadata": {
    "id": "qU030_u5fqKZ"
   },
   "outputs": [],
   "source": [
    "import os\n",
    "\n",
    "path='c:/Users/user/Desktop/'\n",
    "\n",
    "pf.to_csv('{path}rev.csv')"
   ]
  },
  {
   "cell_type": "code",
   "execution_count": null,
   "metadata": {},
   "outputs": [],
   "source": []
  },
  {
   "cell_type": "code",
   "execution_count": 42,
   "metadata": {},
   "outputs": [
    {
     "ename": "SyntaxError",
     "evalue": "incomplete input (541400173.py, line 46)",
     "output_type": "error",
     "traceback": [
      "\u001b[0;36m  Cell \u001b[0;32mIn[42], line 46\u001b[0;36m\u001b[0m\n\u001b[0;31m    df_list = pd.read_html(str(soup))\u001b[0m\n\u001b[0m                                     ^\u001b[0m\n\u001b[0;31mSyntaxError\u001b[0m\u001b[0;31m:\u001b[0m incomplete input\n"
     ]
    }
   ],
   "source": [
    "datas = []\n",
    "\n",
    "def rev(stk):\n",
    "    if：\n",
    "    api_url = 'https://mops.twse.com.tw/mops/web/ajax_t05st10_ifrs'\n",
    "    form_data = {'encodeURIComponent': '1',\n",
    "             'step': '1',\n",
    "             'firstin': '1',\n",
    "             'off': '1',\n",
    "             'keyword4': '',\n",
    "             'code1': '',\n",
    "             'TYPEK2': '',\n",
    "             'checkbtn': '' ,\n",
    "             'queryName': 'co_id',\n",
    "             'inpuType': 'co_id',\n",
    "             'TYPEK': 'all',\n",
    "             'isnew': 'true',\n",
    "             'co_id': stk,\n",
    "             'year': '',\n",
    "             'month': ''}\n",
    "    soup = BeautifulSoup(resp.text, 'lxml')\n",
    "    data=[]\n",
    "    data.append(stk)\n",
    "    data.append(soup.find_all('table')[1].find('td').text.strip()[13:-5])\n",
    "    data.append(soup.find_all('table')[3].find_all('tr')[1].find('td').text.strip())\n",
    "    data.append(soup.find_all('table')[3].find_all('tr')[4].find('td').text.strip())\n",
    "    data.append(soup.find_all('table')[3].find_all('tr')[8].find('td').text.strip())\n",
    "     else：\n",
    "    datas.append(data)\n",
    "    return datas\n",
    "    if datas==[]:\n",
    "        try:\n",
    "            url = \"https://mops.twse.com.tw/mops/web/ajax_t15sf\"\n",
    "            child_co_id = 2330   # 從頁面上的表格獲取的子/母公司代號\n",
    "            payload = {\"ppp\": \"0\",\n",
    "    \"statef\": \"110\",\n",
    "    \"TYPEK\": \"sii\",\n",
    "    \"year\": \"111\",\n",
    "    \"month\": \"01\",\n",
    "    \"co_id\": child_co_id,\n",
    "    \"id\": \"\",\n",
    "    \"key\": \"\",\n",
    "    \"co_name\": \"\",\n",
    "    \"firstin\": \"ture\",} \n",
    "            res = requests.post(url, data=payload, headers=default_headers).content\n",
    "            soup = BeautifulSoup(res, \"html.parser\")\n",
    "            df_list = pd.read_html(str(soup))"
   ]
  },
  {
   "cell_type": "code",
   "execution_count": 39,
   "metadata": {},
   "outputs": [
    {
     "data": {
      "text/html": [
       "<div>\n",
       "<style scoped>\n",
       "    .dataframe tbody tr th:only-of-type {\n",
       "        vertical-align: middle;\n",
       "    }\n",
       "\n",
       "    .dataframe tbody tr th {\n",
       "        vertical-align: top;\n",
       "    }\n",
       "\n",
       "    .dataframe thead th {\n",
       "        text-align: right;\n",
       "    }\n",
       "</style>\n",
       "<table border=\"1\" class=\"dataframe\">\n",
       "  <thead>\n",
       "    <tr style=\"text-align: right;\">\n",
       "      <th></th>\n",
       "      <th>公司代號</th>\n",
       "      <th>公司名稱</th>\n",
       "      <th>本月營收</th>\n",
       "      <th>逐月成長率(%)</th>\n",
       "      <th>同期成長率(%)</th>\n",
       "    </tr>\n",
       "  </thead>\n",
       "  <tbody>\n",
       "  </tbody>\n",
       "</table>\n",
       "</div>"
      ],
      "text/plain": [
       "Empty DataFrame\n",
       "Columns: [公司代號, 公司名稱, 本月營收, 逐月成長率(%), 同期成長率(%)]\n",
       "Index: []"
      ]
     },
     "execution_count": 39,
     "metadata": {},
     "output_type": "execute_result"
    }
   ],
   "source": [
    "import pandas as pd\n",
    "\n",
    "pf = pd.DataFrame(datas, columns = ['公司代號','公司名稱','本月營收','逐月成長率(%)','同期成長率(%)'])\n",
    "pf"
   ]
  },
  {
   "cell_type": "code",
   "execution_count": 48,
   "metadata": {},
   "outputs": [
    {
     "ename": "NameError",
     "evalue": "name 'chid_co_id' is not defined",
     "output_type": "error",
     "traceback": [
      "\u001b[0;31m---------------------------------------------------------------------------\u001b[0m",
      "\u001b[0;31mNameError\u001b[0m                                 Traceback (most recent call last)",
      "Cell \u001b[0;32mIn[48], line 15\u001b[0m\n\u001b[1;32m      4\u001b[0m child_co_id \u001b[38;5;241m=\u001b[39m \u001b[38;5;241m2330\u001b[39m   \u001b[38;5;66;03m# 從頁面上的表格獲取的子/母公司代號\u001b[39;00m\n\u001b[1;32m      5\u001b[0m payload \u001b[38;5;241m=\u001b[39m {\u001b[38;5;124m\"\u001b[39m\u001b[38;5;124mppp\u001b[39m\u001b[38;5;124m\"\u001b[39m: \u001b[38;5;124m\"\u001b[39m\u001b[38;5;124m0\u001b[39m\u001b[38;5;124m\"\u001b[39m,\n\u001b[1;32m      6\u001b[0m     \u001b[38;5;124m\"\u001b[39m\u001b[38;5;124mstatef\u001b[39m\u001b[38;5;124m\"\u001b[39m: \u001b[38;5;124m\"\u001b[39m\u001b[38;5;124m110\u001b[39m\u001b[38;5;124m\"\u001b[39m,\n\u001b[1;32m      7\u001b[0m     \u001b[38;5;124m\"\u001b[39m\u001b[38;5;124mTYPEK\u001b[39m\u001b[38;5;124m\"\u001b[39m: \u001b[38;5;124m\"\u001b[39m\u001b[38;5;124msii\u001b[39m\u001b[38;5;124m\"\u001b[39m,\n\u001b[0;32m   (...)\u001b[0m\n\u001b[1;32m     13\u001b[0m     \u001b[38;5;124m\"\u001b[39m\u001b[38;5;124mco_name\u001b[39m\u001b[38;5;124m\"\u001b[39m: \u001b[38;5;124m\"\u001b[39m\u001b[38;5;124m\"\u001b[39m,\n\u001b[1;32m     14\u001b[0m     \u001b[38;5;124m\"\u001b[39m\u001b[38;5;124mfirstin\u001b[39m\u001b[38;5;124m\"\u001b[39m: \u001b[38;5;124m\"\u001b[39m\u001b[38;5;124mture\u001b[39m\u001b[38;5;124m\"\u001b[39m,} \n\u001b[0;32m---> 15\u001b[0m res \u001b[38;5;241m=\u001b[39m requests\u001b[38;5;241m.\u001b[39mpost(url, data\u001b[38;5;241m=\u001b[39mpayload, headers\u001b[38;5;241m=\u001b[39mchid_co_id)\u001b[38;5;241m.\u001b[39mcontent\n\u001b[1;32m     16\u001b[0m soup \u001b[38;5;241m=\u001b[39m BeautifulSoup(res, \u001b[38;5;124m\"\u001b[39m\u001b[38;5;124mhtml.parser\u001b[39m\u001b[38;5;124m\"\u001b[39m)\n\u001b[1;32m     17\u001b[0m df_list \u001b[38;5;241m=\u001b[39m pd\u001b[38;5;241m.\u001b[39mread_html(\u001b[38;5;28mstr\u001b[39m(soup))\n",
      "\u001b[0;31mNameError\u001b[0m: name 'chid_co_id' is not defined"
     ]
    }
   ],
   "source": [
    "import pandas as pd\n",
    "import requests\n",
    "url = \"https://mops.twse.com.tw/mops/web/ajax_t15sf\"\n",
    "child_co_id = 2330   # 從頁面上的表格獲取的子/母公司代號\n",
    "payload = {\"ppp\": \"0\",\n",
    "    \"statef\": \"110\",\n",
    "    \"TYPEK\": \"sii\",\n",
    "    \"year\": \"111\",\n",
    "    \"month\": \"01\",\n",
    "    \"co_id\": child_co_id,\n",
    "    \"id\": \"\",\n",
    "    \"key\": \"\",\n",
    "    \"co_name\": \"\",\n",
    "    \"firstin\": \"ture\",} \n",
    "res = requests.post(url, data=payload, headers=de).content\n",
    "soup = BeautifulSoup(res, \"html.parser\")\n",
    "df_list = pd.read_html(str(soup))"
   ]
  },
  {
   "cell_type": "code",
   "execution_count": null,
   "metadata": {},
   "outputs": [],
   "source": []
  },
  {
   "cell_type": "code",
   "execution_count": null,
   "metadata": {},
   "outputs": [],
   "source": []
  }
 ],
 "metadata": {
  "colab": {
   "provenance": []
  },
  "kernelspec": {
   "display_name": "Python 3 (ipykernel)",
   "language": "python",
   "name": "python3"
  },
  "language_info": {
   "codemirror_mode": {
    "name": "ipython",
    "version": 3
   },
   "file_extension": ".py",
   "mimetype": "text/x-python",
   "name": "python",
   "nbconvert_exporter": "python",
   "pygments_lexer": "ipython3",
   "version": "3.11.4"
  }
 },
 "nbformat": 4,
 "nbformat_minor": 1
}
